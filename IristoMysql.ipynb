{
 "cells": [
  {
   "cell_type": "code",
   "execution_count": 1,
   "metadata": {},
   "outputs": [],
   "source": [
    "import numpy as np\n",
    "import pandas as pd\n",
    "import pymysql as sql\n",
    "from sklearn.datasets import load_iris"
   ]
  },
  {
   "cell_type": "code",
   "execution_count": 2,
   "metadata": {},
   "outputs": [],
   "source": [
    "raw = load_iris()\n",
    "iris = pd.DataFrame(raw.data, columns=raw.feature_names)\n",
    "\n",
    "var_names = [val.replace(' ', '_').replace('_(cm)', '') for val in list(iris.columns)]"
   ]
  },
  {
   "cell_type": "code",
   "execution_count": 3,
   "metadata": {},
   "outputs": [
    {
     "name": "stdout",
     "output_type": "stream",
     "text": [
      "Database version: 5.7.25-0ubuntu0.18.04.2\n"
     ]
    }
   ],
   "source": [
    "#test for connection\n",
    "con = sql.connect('localhost', 'Iris_test', \n",
    "    'Iris_12345678', 'Iris_db')\n",
    "\n",
    "with con:\n",
    "    \n",
    "    cur = con.cursor()\n",
    "    cur.execute(\"SELECT VERSION()\")\n",
    "\n",
    "    version = cur.fetchone()\n",
    "    \n",
    "    print(\"Database version: {}\".format(version[0]))\n",
    "    \n",
    "con.close()"
   ]
  },
  {
   "cell_type": "code",
   "execution_count": 4,
   "metadata": {},
   "outputs": [],
   "source": [
    "#create table 'iris'\n",
    "#do not run this gain!!\n",
    "#recommend to save the login info. in a '.py' file\n",
    "#use .format instead of puting var_names in the cur.execute func.. In the case the command will be like ....'sepal_length'... , and cannot be executed\n",
    "\n",
    "con = sql.connect(host='localhost',\n",
    "        user='Iris_test',\n",
    "        password='Iris_12345678',\n",
    "        db='Iris_db',\n",
    "        charset='utf8mb4',\n",
    "        cursorclass=sql.cursors.DictCursor)\n",
    "\n",
    "with con:\n",
    "    \n",
    "    cur = con.cursor()\n",
    "    \n",
    "    command =  '''CREATE TABLE Iris(id INT UNSIGNED NOT NULL AUTO_INCREMENT,\n",
    "                           {0[0]} DECIMAL(18, 2),\n",
    "                           {0[1]} DECIMAL(18, 2),\n",
    "                           {0[2]} DECIMAL(18, 2),\n",
    "                           {0[3]} DECIMAL(18, 2),\n",
    "                           PRIMARY KEY (id));'''.format(var_names)\n",
    "    \n",
    "    cur.execute(command)\n",
    "    \n",
    "    con.commit()\n",
    "\n",
    "con.close()"
   ]
  },
  {
   "cell_type": "code",
   "execution_count": 5,
   "metadata": {},
   "outputs": [],
   "source": [
    "#reconstruct the df and change dtype as np.float64 is not supported by cur.excutemany()\n",
    "data_remake = [[float(iris.values[i,j]) for j in range(4)] for i in range(len(iris))]"
   ]
  },
  {
   "cell_type": "code",
   "execution_count": 6,
   "metadata": {},
   "outputs": [
    {
     "name": "stdout",
     "output_type": "stream",
     "text": [
      "150 Record(s) inserted successfully into python_users table\n",
      "connection closed sucessfully\n"
     ]
    }
   ],
   "source": [
    "#try insert many times at once\n",
    "#do not run this again\n",
    "#cannot use %.2f to reflect data in the query!!\n",
    "#only %s should be used\n",
    "\n",
    "try:\n",
    "    con = sql.connect(host='localhost',\n",
    "        user='Iris_test',\n",
    "        password='Iris_12345678',\n",
    "        db='Iris_db',\n",
    "        charset='utf8mb4',\n",
    "        cursorclass=sql.cursors.DictCursor)\n",
    "    \n",
    "    sql_query = '''INSERT INTO Iris ({0[0]}, {0[1]}, {0[2]}, {0[3]}) VALUES(%s, %s, %s, %s);'''.format(var_names)\n",
    "    \n",
    "    cur = con.cursor()\n",
    "    cur.executemany(sql_query, data_remake)\n",
    "    \n",
    "    con.commit()\n",
    "    print (cur.rowcount, 'Record(s) inserted successfully into python_users table')\n",
    "\n",
    "except sql.err.Error as err:\n",
    "    print(\"Failed inserting record into python_users table. {}\".format(err))\n",
    "    \n",
    "finally:\n",
    "    try:\n",
    "        con.close()\n",
    "        print('connection closed sucessfully')\n",
    "    except sql.connections.err.Error as err:\n",
    "        print('connection might have been closed, or cannot be closed...')\n",
    "        print('for detail, see: ', err)\n"
   ]
  },
  {
   "cell_type": "code",
   "execution_count": 7,
   "metadata": {},
   "outputs": [
    {
     "name": "stdout",
     "output_type": "stream",
     "text": [
      "connection closed sucessfully\n"
     ]
    }
   ],
   "source": [
    "#select table\n",
    "#commit not needed\n",
    "\n",
    "try:\n",
    "    con = sql.connect(host='localhost',\n",
    "        user='Iris_test',\n",
    "        password='Iris_12345678',\n",
    "        db='Iris_db',\n",
    "        charset='utf8mb4',\n",
    "        cursorclass=sql.cursors.DictCursor)\n",
    "    \n",
    "    sql_query = '''SELECT id, {0[0]}, {0[1]}, {0[2]}, {0[3]} FROM Iris;'''.format(var_names)\n",
    "    \n",
    "    cur = con.cursor()\n",
    "    cur.execute(sql_query)\n",
    "    \n",
    "    output = cur.fetchall()\n",
    "\n",
    "except sql.err.Error as err:\n",
    "    print(\"Something bad happened during query {}\".format(err))\n",
    "    \n",
    "    \n",
    "finally:\n",
    "    con.close()\n",
    "    print('connection closed sucessfully')"
   ]
  },
  {
   "cell_type": "code",
   "execution_count": 8,
   "metadata": {},
   "outputs": [
    {
     "data": {
      "text/plain": [
       "id               int64\n",
       "petal_length    object\n",
       "petal_width     object\n",
       "sepal_length    object\n",
       "sepal_width     object\n",
       "dtype: object"
      ]
     },
     "execution_count": 8,
     "metadata": {},
     "output_type": "execute_result"
    }
   ],
   "source": [
    "#output is a dictionary, and can be converted to dataframe by:\n",
    "#some data seem to be string, we need to parse them to be in appropriate formats\n",
    "df = pd.DataFrame(output)\n",
    "df.dtypes"
   ]
  },
  {
   "cell_type": "code",
   "execution_count": 9,
   "metadata": {},
   "outputs": [
    {
     "data": {
      "text/html": [
       "<div>\n",
       "<style scoped>\n",
       "    .dataframe tbody tr th:only-of-type {\n",
       "        vertical-align: middle;\n",
       "    }\n",
       "\n",
       "    .dataframe tbody tr th {\n",
       "        vertical-align: top;\n",
       "    }\n",
       "\n",
       "    .dataframe thead th {\n",
       "        text-align: right;\n",
       "    }\n",
       "</style>\n",
       "<table border=\"1\" class=\"dataframe\">\n",
       "  <thead>\n",
       "    <tr style=\"text-align: right;\">\n",
       "      <th></th>\n",
       "      <th>id</th>\n",
       "      <th>petal_length</th>\n",
       "      <th>petal_width</th>\n",
       "      <th>sepal_length</th>\n",
       "      <th>sepal_width</th>\n",
       "    </tr>\n",
       "  </thead>\n",
       "  <tbody>\n",
       "    <tr>\n",
       "      <th>0</th>\n",
       "      <td>1</td>\n",
       "      <td>1.4</td>\n",
       "      <td>0.2</td>\n",
       "      <td>5.1</td>\n",
       "      <td>3.5</td>\n",
       "    </tr>\n",
       "    <tr>\n",
       "      <th>1</th>\n",
       "      <td>2</td>\n",
       "      <td>1.4</td>\n",
       "      <td>0.2</td>\n",
       "      <td>4.9</td>\n",
       "      <td>3.0</td>\n",
       "    </tr>\n",
       "    <tr>\n",
       "      <th>2</th>\n",
       "      <td>3</td>\n",
       "      <td>1.3</td>\n",
       "      <td>0.2</td>\n",
       "      <td>4.7</td>\n",
       "      <td>3.2</td>\n",
       "    </tr>\n",
       "    <tr>\n",
       "      <th>3</th>\n",
       "      <td>4</td>\n",
       "      <td>1.5</td>\n",
       "      <td>0.2</td>\n",
       "      <td>4.6</td>\n",
       "      <td>3.1</td>\n",
       "    </tr>\n",
       "    <tr>\n",
       "      <th>4</th>\n",
       "      <td>5</td>\n",
       "      <td>1.4</td>\n",
       "      <td>0.2</td>\n",
       "      <td>5.0</td>\n",
       "      <td>3.6</td>\n",
       "    </tr>\n",
       "    <tr>\n",
       "      <th>5</th>\n",
       "      <td>6</td>\n",
       "      <td>1.7</td>\n",
       "      <td>0.4</td>\n",
       "      <td>5.4</td>\n",
       "      <td>3.9</td>\n",
       "    </tr>\n",
       "    <tr>\n",
       "      <th>6</th>\n",
       "      <td>7</td>\n",
       "      <td>1.4</td>\n",
       "      <td>0.3</td>\n",
       "      <td>4.6</td>\n",
       "      <td>3.4</td>\n",
       "    </tr>\n",
       "    <tr>\n",
       "      <th>7</th>\n",
       "      <td>8</td>\n",
       "      <td>1.5</td>\n",
       "      <td>0.2</td>\n",
       "      <td>5.0</td>\n",
       "      <td>3.4</td>\n",
       "    </tr>\n",
       "    <tr>\n",
       "      <th>8</th>\n",
       "      <td>9</td>\n",
       "      <td>1.4</td>\n",
       "      <td>0.2</td>\n",
       "      <td>4.4</td>\n",
       "      <td>2.9</td>\n",
       "    </tr>\n",
       "    <tr>\n",
       "      <th>9</th>\n",
       "      <td>10</td>\n",
       "      <td>1.5</td>\n",
       "      <td>0.1</td>\n",
       "      <td>4.9</td>\n",
       "      <td>3.1</td>\n",
       "    </tr>\n",
       "  </tbody>\n",
       "</table>\n",
       "</div>"
      ],
      "text/plain": [
       "   id  petal_length  petal_width  sepal_length  sepal_width\n",
       "0   1           1.4          0.2           5.1          3.5\n",
       "1   2           1.4          0.2           4.9          3.0\n",
       "2   3           1.3          0.2           4.7          3.2\n",
       "3   4           1.5          0.2           4.6          3.1\n",
       "4   5           1.4          0.2           5.0          3.6\n",
       "5   6           1.7          0.4           5.4          3.9\n",
       "6   7           1.4          0.3           4.6          3.4\n",
       "7   8           1.5          0.2           5.0          3.4\n",
       "8   9           1.4          0.2           4.4          2.9\n",
       "9  10           1.5          0.1           4.9          3.1"
      ]
     },
     "execution_count": 9,
     "metadata": {},
     "output_type": "execute_result"
    }
   ],
   "source": [
    "df.loc[:,'petal_length':'sepal_width'] = df.loc[:,'petal_length':'sepal_width'].astype('float64')\n",
    "df.head(10)"
   ]
  },
  {
   "cell_type": "code",
   "execution_count": 10,
   "metadata": {},
   "outputs": [
    {
     "name": "stdout",
     "output_type": "stream",
     "text": [
      "Table Dropped sucessfully\n",
      "connection closed sucessfully\n"
     ]
    }
   ],
   "source": [
    "#drop table Iris\n",
    "\n",
    "try:\n",
    "    con = sql.connect(host='localhost',\n",
    "        user='Iris_test',\n",
    "        password='Iris_12345678',\n",
    "        db='Iris_db',\n",
    "        charset='utf8mb4',\n",
    "        cursorclass=sql.cursors.DictCursor)\n",
    "    \n",
    "    sql_query = 'DROP TABLE Iris;'\n",
    "    \n",
    "    cur = con.cursor()\n",
    "    cur.execute(sql_query)\n",
    "    \n",
    "    con.commit()\n",
    "    \n",
    "    print('Table Dropped sucessfully')\n",
    "\n",
    "except sql.err.Error as err:\n",
    "    print(\"Something bad happened during query {}\".format(err))\n",
    "    \n",
    "    \n",
    "finally:\n",
    "    con.close()\n",
    "    print('connection closed sucessfully')"
   ]
  },
  {
   "cell_type": "code",
   "execution_count": 6,
   "metadata": {},
   "outputs": [],
   "source": []
  },
  {
   "cell_type": "code",
   "execution_count": null,
   "metadata": {},
   "outputs": [],
   "source": []
  }
 ],
 "metadata": {
  "kernelspec": {
   "display_name": "Python 3",
   "language": "python",
   "name": "python3"
  },
  "language_info": {
   "codemirror_mode": {
    "name": "ipython",
    "version": 3
   },
   "file_extension": ".py",
   "mimetype": "text/x-python",
   "name": "python",
   "nbconvert_exporter": "python",
   "pygments_lexer": "ipython3",
   "version": "3.7.3"
  }
 },
 "nbformat": 4,
 "nbformat_minor": 2
}
