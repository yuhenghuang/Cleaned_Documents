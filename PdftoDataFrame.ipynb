{
 "cells": [
  {
   "cell_type": "code",
   "execution_count": 1,
   "metadata": {},
   "outputs": [],
   "source": [
    "import numpy as np\n",
    "import pandas as pd\n",
    "import tabula"
   ]
  },
  {
   "cell_type": "markdown",
   "metadata": {},
   "source": [
    "The following loop is very slow because it has to open and close pdf file many times.\n",
    "After that I found the multiple_tables option...\n",
    "It is much faster than the stupid loop, though the form of the dataframes in the list are different.\n",
    "That is, the cleaning process here is not compatible with the argument...\n",
    "Maybe try it next time..."
   ]
  },
  {
   "cell_type": "code",
   "execution_count": 2,
   "metadata": {},
   "outputs": [],
   "source": [
    "#tabula.read_pdf('data/FinInstList.pdf', pages='all', multiple_tables=True)\n",
    "\n",
    "dfs = [tabula.read_pdf('data/FinInstList.pdf', pages=str(i+1)) for i in range(287)]"
   ]
  },
  {
   "cell_type": "markdown",
   "metadata": {},
   "source": [
    "Check the dataframes in the list\n",
    "\n",
    "First Dataframe\n",
    "\n",
    "How many dataframes with exactly 5 columns\n",
    "\n",
    "Where those mutant dataframes are, and how they look like"
   ]
  },
  {
   "cell_type": "code",
   "execution_count": 3,
   "metadata": {},
   "outputs": [
    {
     "data": {
      "text/html": [
       "<div>\n",
       "<style scoped>\n",
       "    .dataframe tbody tr th:only-of-type {\n",
       "        vertical-align: middle;\n",
       "    }\n",
       "\n",
       "    .dataframe tbody tr th {\n",
       "        vertical-align: top;\n",
       "    }\n",
       "\n",
       "    .dataframe thead th {\n",
       "        text-align: right;\n",
       "    }\n",
       "</style>\n",
       "<table border=\"1\" class=\"dataframe\">\n",
       "  <thead>\n",
       "    <tr style=\"text-align: right;\">\n",
       "      <th></th>\n",
       "      <th>序号</th>\n",
       "      <th>中文全称</th>\n",
       "      <th>英文全称</th>\n",
       "      <th>金融许可证机构编码</th>\n",
       "      <th>机构类型</th>\n",
       "    </tr>\n",
       "  </thead>\n",
       "  <tbody>\n",
       "    <tr>\n",
       "      <th>0</th>\n",
       "      <td>1.0</td>\n",
       "      <td>国家开发银行</td>\n",
       "      <td>China Development Bank</td>\n",
       "      <td>G0001H111000001</td>\n",
       "      <td>开发性金融机构</td>\n",
       "    </tr>\n",
       "    <tr>\n",
       "      <th>1</th>\n",
       "      <td>2.0</td>\n",
       "      <td>中国进出口银行</td>\n",
       "      <td>The Export-Import Bank of China</td>\n",
       "      <td>A0003H111000001</td>\n",
       "      <td>政策性银行</td>\n",
       "    </tr>\n",
       "    <tr>\n",
       "      <th>2</th>\n",
       "      <td>3.0</td>\n",
       "      <td>中国农业发展银行</td>\n",
       "      <td>Agricultural Development Bank of China</td>\n",
       "      <td>A0002H111000001</td>\n",
       "      <td>政策性银行</td>\n",
       "    </tr>\n",
       "    <tr>\n",
       "      <th>3</th>\n",
       "      <td>NaN</td>\n",
       "      <td>NaN</td>\n",
       "      <td>INDUSTRIAL AND COMMERCIAL BANK OF CHINA</td>\n",
       "      <td>NaN</td>\n",
       "      <td>NaN</td>\n",
       "    </tr>\n",
       "    <tr>\n",
       "      <th>4</th>\n",
       "      <td>4.0</td>\n",
       "      <td>中国工商银行股份有限公司</td>\n",
       "      <td>NaN</td>\n",
       "      <td>B0001H111000001</td>\n",
       "      <td>国有大型商业银行</td>\n",
       "    </tr>\n",
       "  </tbody>\n",
       "</table>\n",
       "</div>"
      ],
      "text/plain": [
       "    序号          中文全称                                     英文全称  \\\n",
       "0  1.0        国家开发银行                   China Development Bank   \n",
       "1  2.0       中国进出口银行          The Export-Import Bank of China   \n",
       "2  3.0      中国农业发展银行   Agricultural Development Bank of China   \n",
       "3  NaN           NaN  INDUSTRIAL AND COMMERCIAL BANK OF CHINA   \n",
       "4  4.0  中国工商银行股份有限公司                                      NaN   \n",
       "\n",
       "         金融许可证机构编码      机构类型  \n",
       "0  G0001H111000001   开发性金融机构  \n",
       "1  A0003H111000001     政策性银行  \n",
       "2  A0002H111000001     政策性银行  \n",
       "3              NaN       NaN  \n",
       "4  B0001H111000001  国有大型商业银行  "
      ]
     },
     "execution_count": 3,
     "metadata": {},
     "output_type": "execute_result"
    }
   ],
   "source": [
    "dfs[0].head()"
   ]
  },
  {
   "cell_type": "code",
   "execution_count": 4,
   "metadata": {},
   "outputs": [
    {
     "data": {
      "text/plain": [
       "282"
      ]
     },
     "execution_count": 4,
     "metadata": {},
     "output_type": "execute_result"
    }
   ],
   "source": [
    "lengths = np.array([len(df.columns) for df in dfs])\n",
    "np.count_nonzero(lengths==5)"
   ]
  },
  {
   "cell_type": "code",
   "execution_count": 5,
   "metadata": {},
   "outputs": [
    {
     "data": {
      "text/plain": [
       "array([[177],\n",
       "       [202],\n",
       "       [203],\n",
       "       [204],\n",
       "       [205]])"
      ]
     },
     "execution_count": 5,
     "metadata": {},
     "output_type": "execute_result"
    }
   ],
   "source": [
    "np.argwhere(lengths != 5)"
   ]
  },
  {
   "cell_type": "code",
   "execution_count": 6,
   "metadata": {},
   "outputs": [
    {
     "data": {
      "text/html": [
       "<div>\n",
       "<style scoped>\n",
       "    .dataframe tbody tr th:only-of-type {\n",
       "        vertical-align: middle;\n",
       "    }\n",
       "\n",
       "    .dataframe tbody tr th {\n",
       "        vertical-align: top;\n",
       "    }\n",
       "\n",
       "    .dataframe thead th {\n",
       "        text-align: right;\n",
       "    }\n",
       "</style>\n",
       "<table border=\"1\" class=\"dataframe\">\n",
       "  <thead>\n",
       "    <tr style=\"text-align: right;\">\n",
       "      <th></th>\n",
       "      <th>Unnamed: 0</th>\n",
       "      <th>Unnamed: 1</th>\n",
       "      <th>Guangdong  GaoyaoRural Commercial</th>\n",
       "      <th>Unnamed: 3</th>\n",
       "      <th>Unnamed: 4</th>\n",
       "      <th>Unnamed: 5</th>\n",
       "    </tr>\n",
       "  </thead>\n",
       "  <tbody>\n",
       "    <tr>\n",
       "      <th>0</th>\n",
       "      <td>2829.0</td>\n",
       "      <td>广东高要农村商业银行股份有限公司</td>\n",
       "      <td>NaN</td>\n",
       "      <td>NaN</td>\n",
       "      <td>B1377H344120001</td>\n",
       "      <td>农村商业银行</td>\n",
       "    </tr>\n",
       "    <tr>\n",
       "      <th>1</th>\n",
       "      <td>NaN</td>\n",
       "      <td>NaN</td>\n",
       "      <td>Bank Company Limited</td>\n",
       "      <td>NaN</td>\n",
       "      <td>NaN</td>\n",
       "      <td>NaN</td>\n",
       "    </tr>\n",
       "    <tr>\n",
       "      <th>2</th>\n",
       "      <td>NaN</td>\n",
       "      <td>NaN</td>\n",
       "      <td>Guangdong Huaiji Rural Commercial Bank</td>\n",
       "      <td>NaN</td>\n",
       "      <td>NaN</td>\n",
       "      <td>NaN</td>\n",
       "    </tr>\n",
       "    <tr>\n",
       "      <th>3</th>\n",
       "      <td>2830.0</td>\n",
       "      <td>广东怀集农村商业银行股份有限公司</td>\n",
       "      <td>NaN</td>\n",
       "      <td>NaN</td>\n",
       "      <td>B1785H344120001</td>\n",
       "      <td>农村商业银行</td>\n",
       "    </tr>\n",
       "    <tr>\n",
       "      <th>4</th>\n",
       "      <td>NaN</td>\n",
       "      <td>NaN</td>\n",
       "      <td>Company Limited</td>\n",
       "      <td>NaN</td>\n",
       "      <td>NaN</td>\n",
       "      <td>NaN</td>\n",
       "    </tr>\n",
       "  </tbody>\n",
       "</table>\n",
       "</div>"
      ],
      "text/plain": [
       "   Unnamed: 0        Unnamed: 1       Guangdong  GaoyaoRural Commercial  \\\n",
       "0      2829.0  广东高要农村商业银行股份有限公司                                     NaN   \n",
       "1         NaN               NaN                    Bank Company Limited   \n",
       "2         NaN               NaN  Guangdong Huaiji Rural Commercial Bank   \n",
       "3      2830.0  广东怀集农村商业银行股份有限公司                                     NaN   \n",
       "4         NaN               NaN                         Company Limited   \n",
       "\n",
       "   Unnamed: 3       Unnamed: 4 Unnamed: 5  \n",
       "0         NaN  B1377H344120001     农村商业银行  \n",
       "1         NaN              NaN        NaN  \n",
       "2         NaN              NaN        NaN  \n",
       "3         NaN  B1785H344120001     农村商业银行  \n",
       "4         NaN              NaN        NaN  "
      ]
     },
     "execution_count": 6,
     "metadata": {},
     "output_type": "execute_result"
    }
   ],
   "source": [
    "dfs[177].head()"
   ]
  },
  {
   "cell_type": "code",
   "execution_count": 7,
   "metadata": {},
   "outputs": [
    {
     "data": {
      "text/html": [
       "<div>\n",
       "<style scoped>\n",
       "    .dataframe tbody tr th:only-of-type {\n",
       "        vertical-align: middle;\n",
       "    }\n",
       "\n",
       "    .dataframe tbody tr th {\n",
       "        vertical-align: top;\n",
       "    }\n",
       "\n",
       "    .dataframe thead th {\n",
       "        text-align: right;\n",
       "    }\n",
       "</style>\n",
       "<table border=\"1\" class=\"dataframe\">\n",
       "  <thead>\n",
       "    <tr style=\"text-align: right;\">\n",
       "      <th></th>\n",
       "      <th>3229</th>\n",
       "      <th>贵州独山农村商业银行股份有限公司</th>\n",
       "      <th>B0391H252270001</th>\n",
       "      <th>农村商业银行</th>\n",
       "    </tr>\n",
       "  </thead>\n",
       "  <tbody>\n",
       "    <tr>\n",
       "      <th>0</th>\n",
       "      <td>3230</td>\n",
       "      <td>贵州花溪农村商业银行股份有限公司</td>\n",
       "      <td>B0419H252010001</td>\n",
       "      <td>农村商业银行</td>\n",
       "    </tr>\n",
       "    <tr>\n",
       "      <th>1</th>\n",
       "      <td>3231</td>\n",
       "      <td>贵州安龙农村商业银行股份有限公司</td>\n",
       "      <td>B0438H252230001</td>\n",
       "      <td>农村商业银行</td>\n",
       "    </tr>\n",
       "    <tr>\n",
       "      <th>2</th>\n",
       "      <td>3232</td>\n",
       "      <td>贵州贞丰农村商业银行股份有限公司</td>\n",
       "      <td>B0439H252230001</td>\n",
       "      <td>农村商业银行</td>\n",
       "    </tr>\n",
       "    <tr>\n",
       "      <th>3</th>\n",
       "      <td>3233</td>\n",
       "      <td>贵州紫云农村商业银行股份有限公司</td>\n",
       "      <td>B0464H252040001</td>\n",
       "      <td>农村商业银行</td>\n",
       "    </tr>\n",
       "    <tr>\n",
       "      <th>4</th>\n",
       "      <td>3234</td>\n",
       "      <td>贵州都匀农村商业银行股份有限公司</td>\n",
       "      <td>B0507H252270001</td>\n",
       "      <td>农村商业银行</td>\n",
       "    </tr>\n",
       "  </tbody>\n",
       "</table>\n",
       "</div>"
      ],
      "text/plain": [
       "   3229  贵州独山农村商业银行股份有限公司  B0391H252270001  农村商业银行\n",
       "0  3230  贵州花溪农村商业银行股份有限公司  B0419H252010001  农村商业银行\n",
       "1  3231  贵州安龙农村商业银行股份有限公司  B0438H252230001  农村商业银行\n",
       "2  3232  贵州贞丰农村商业银行股份有限公司  B0439H252230001  农村商业银行\n",
       "3  3233  贵州紫云农村商业银行股份有限公司  B0464H252040001  农村商业银行\n",
       "4  3234  贵州都匀农村商业银行股份有限公司  B0507H252270001  农村商业银行"
      ]
     },
     "execution_count": 7,
     "metadata": {},
     "output_type": "execute_result"
    }
   ],
   "source": [
    "dfs[202].head()"
   ]
  },
  {
   "cell_type": "markdown",
   "metadata": {},
   "source": [
    "Clean 0 and 177 dataframes first,\n",
    "\n",
    "Put the information in column labels to the table\n",
    "\n",
    "Concatenate!"
   ]
  },
  {
   "cell_type": "code",
   "execution_count": 8,
   "metadata": {},
   "outputs": [],
   "source": [
    "dfs[0].rename(columns={dfs[0].columns[-2]: 'instcode', dfs[0].columns[-1]: 'type'}, inplace=True)\n",
    "dfs[177].rename(columns={dfs[177].columns[-2]: 'instcode', dfs[177].columns[-1]: 'type'}, inplace=True)"
   ]
  },
  {
   "cell_type": "code",
   "execution_count": 9,
   "metadata": {},
   "outputs": [],
   "source": [
    "def clean_small_df(df):\n",
    "    small = pd.DataFrame(np.array(df.columns)[np.newaxis, :], columns=df.columns)\n",
    "    \n",
    "    large = pd.concat([df, small], ignore_index=True).iloc[:, -2:]\n",
    "    large.columns = ['instcode', 'type']\n",
    "    \n",
    "    return large"
   ]
  },
  {
   "cell_type": "code",
   "execution_count": 10,
   "metadata": {},
   "outputs": [],
   "source": [
    "dfs_cleaned = [clean_small_df(dfs[i]) if i not in (0, 177) else dfs[i].iloc[:, -2:] for i in range(287)]"
   ]
  },
  {
   "cell_type": "code",
   "execution_count": 11,
   "metadata": {},
   "outputs": [],
   "source": [
    "df_main = pd.concat(dfs_cleaned, ignore_index=True)"
   ]
  },
  {
   "cell_type": "markdown",
   "metadata": {},
   "source": [
    "Drop all the duplicates as there should not be any duplicate in the clean data!"
   ]
  },
  {
   "cell_type": "code",
   "execution_count": 12,
   "metadata": {},
   "outputs": [
    {
     "data": {
      "text/plain": [
       "4589"
      ]
     },
     "execution_count": 12,
     "metadata": {},
     "output_type": "execute_result"
    }
   ],
   "source": [
    "df_main = df_main.dropna().drop_duplicates(keep=False)\n",
    "\n",
    "len(df_main)"
   ]
  },
  {
   "cell_type": "code",
   "execution_count": 13,
   "metadata": {},
   "outputs": [
    {
     "data": {
      "text/html": [
       "<div>\n",
       "<style scoped>\n",
       "    .dataframe tbody tr th:only-of-type {\n",
       "        vertical-align: middle;\n",
       "    }\n",
       "\n",
       "    .dataframe tbody tr th {\n",
       "        vertical-align: top;\n",
       "    }\n",
       "\n",
       "    .dataframe thead th {\n",
       "        text-align: right;\n",
       "    }\n",
       "</style>\n",
       "<table border=\"1\" class=\"dataframe\">\n",
       "  <thead>\n",
       "    <tr style=\"text-align: right;\">\n",
       "      <th></th>\n",
       "      <th>instcode</th>\n",
       "      <th>type</th>\n",
       "    </tr>\n",
       "  </thead>\n",
       "  <tbody>\n",
       "    <tr>\n",
       "      <th>0</th>\n",
       "      <td>G0001H111000001</td>\n",
       "      <td>开发性金融机构</td>\n",
       "    </tr>\n",
       "    <tr>\n",
       "      <th>1</th>\n",
       "      <td>A0003H111000001</td>\n",
       "      <td>政策性银行</td>\n",
       "    </tr>\n",
       "    <tr>\n",
       "      <th>2</th>\n",
       "      <td>A0002H111000001</td>\n",
       "      <td>政策性银行</td>\n",
       "    </tr>\n",
       "    <tr>\n",
       "      <th>4</th>\n",
       "      <td>B0001H111000001</td>\n",
       "      <td>国有大型商业银行</td>\n",
       "    </tr>\n",
       "    <tr>\n",
       "      <th>6</th>\n",
       "      <td>B0002H111000001</td>\n",
       "      <td>国有大型商业银行</td>\n",
       "    </tr>\n",
       "  </tbody>\n",
       "</table>\n",
       "</div>"
      ],
      "text/plain": [
       "          instcode      type\n",
       "0  G0001H111000001   开发性金融机构\n",
       "1  A0003H111000001     政策性银行\n",
       "2  A0002H111000001     政策性银行\n",
       "4  B0001H111000001  国有大型商业银行\n",
       "6  B0002H111000001  国有大型商业银行"
      ]
     },
     "execution_count": 13,
     "metadata": {},
     "output_type": "execute_result"
    }
   ],
   "source": [
    "df_main.head()"
   ]
  },
  {
   "cell_type": "code",
   "execution_count": 14,
   "metadata": {},
   "outputs": [],
   "source": [
    "df_main.to_excel('data/FinInstList.xlsx')"
   ]
  },
  {
   "cell_type": "code",
   "execution_count": null,
   "metadata": {},
   "outputs": [],
   "source": []
  }
 ],
 "metadata": {
  "kernelspec": {
   "display_name": "Python 3",
   "language": "python",
   "name": "python3"
  },
  "language_info": {
   "codemirror_mode": {
    "name": "ipython",
    "version": 3
   },
   "file_extension": ".py",
   "mimetype": "text/x-python",
   "name": "python",
   "nbconvert_exporter": "python",
   "pygments_lexer": "ipython3",
   "version": "3.7.3"
  }
 },
 "nbformat": 4,
 "nbformat_minor": 2
}
