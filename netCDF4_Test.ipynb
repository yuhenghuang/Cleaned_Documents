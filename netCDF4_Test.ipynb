{
 "cells": [
  {
   "cell_type": "code",
   "execution_count": 1,
   "metadata": {},
   "outputs": [],
   "source": [
    "%matplotlib inline\n",
    "import numpy as np\n",
    "import pandas as pd\n",
    "import matplotlib.pyplot as plt\n",
    "import netCDF4\n",
    "from mpl_toolkits.basemap import Basemap\n",
    "from datetime import datetime"
   ]
  },
  {
   "cell_type": "code",
   "execution_count": 2,
   "metadata": {},
   "outputs": [],
   "source": [
    "#!curl -O http://data.giss.nasa.gov/pub/gistemp/gistemp1200_ERSSTv5.nc.gz\n",
    "#!gunzip gistemp1200_ERSSTv5.nc.gz"
   ]
  },
  {
   "cell_type": "code",
   "execution_count": 3,
   "metadata": {},
   "outputs": [],
   "source": [
    "data = netCDF4.Dataset('gistemp1200_ERSSTv5.nc')"
   ]
  },
  {
   "cell_type": "code",
   "execution_count": 4,
   "metadata": {},
   "outputs": [
    {
     "data": {
      "text/plain": [
       "<class 'netCDF4._netCDF4.Dataset'>\n",
       "root group (NETCDF3_CLASSIC data model, file format NETCDF3):\n",
       "    title: GISTEMP Surface Temperature Analysis\n",
       "    institution: NASA Goddard Institute for Space Studies\n",
       "    source: http://data.giss.nasa.gov/gistemp/\n",
       "    Conventions: CF-1.6\n",
       "    history: Created 2019-04-12 10:51:15 by SBBX_to_nc 2.0 - ILAND=1200, IOCEAN=NCDC/ER5, Base: 1951-1980\n",
       "    dimensions(sizes): lat(90), lon(180), time(1671), nv(2)\n",
       "    variables(dimensions): float32 \u001b[4mlat\u001b[0m(lat), float32 \u001b[4mlon\u001b[0m(lon), int32 \u001b[4mtime\u001b[0m(time), int32 \u001b[4mtime_bnds\u001b[0m(time,nv), int16 \u001b[4mtempanomaly\u001b[0m(time,lat,lon)\n",
       "    groups: "
      ]
     },
     "execution_count": 4,
     "metadata": {},
     "output_type": "execute_result"
    }
   ],
   "source": [
    "data"
   ]
  },
  {
   "cell_type": "code",
   "execution_count": 5,
   "metadata": {},
   "outputs": [
    {
     "data": {
      "text/plain": [
       "OrderedDict([('lat', <class 'netCDF4._netCDF4.Variable'>\n",
       "              float32 lat(lat)\n",
       "                  standard_name: latitude\n",
       "                  long_name: Latitude\n",
       "                  units: degrees_north\n",
       "              unlimited dimensions: \n",
       "              current shape = (90,)\n",
       "              filling on, default _FillValue of 9.969209968386869e+36 used),\n",
       "             ('lon', <class 'netCDF4._netCDF4.Variable'>\n",
       "              float32 lon(lon)\n",
       "                  standard_name: longitude\n",
       "                  long_name: Longitude\n",
       "                  units: degrees_east\n",
       "              unlimited dimensions: \n",
       "              current shape = (180,)\n",
       "              filling on, default _FillValue of 9.969209968386869e+36 used),\n",
       "             ('time', <class 'netCDF4._netCDF4.Variable'>\n",
       "              int32 time(time)\n",
       "                  long_name: time\n",
       "                  units: days since 1800-01-01 00:00:00\n",
       "                  bounds: time_bnds\n",
       "              unlimited dimensions: \n",
       "              current shape = (1671,)\n",
       "              filling on, default _FillValue of -2147483647 used),\n",
       "             ('time_bnds', <class 'netCDF4._netCDF4.Variable'>\n",
       "              int32 time_bnds(time, nv)\n",
       "              unlimited dimensions: \n",
       "              current shape = (1671, 2)\n",
       "              filling on, default _FillValue of -2147483647 used),\n",
       "             ('tempanomaly', <class 'netCDF4._netCDF4.Variable'>\n",
       "              int16 tempanomaly(time, lat, lon)\n",
       "                  long_name: Surface temperature anomaly\n",
       "                  units: K\n",
       "                  scale_factor: 0.01\n",
       "                  cell_methods: time: mean\n",
       "                  _FillValue: 32767\n",
       "              unlimited dimensions: \n",
       "              current shape = (1671, 90, 180)\n",
       "              filling on)])"
      ]
     },
     "execution_count": 5,
     "metadata": {},
     "output_type": "execute_result"
    }
   ],
   "source": [
    "data.variables"
   ]
  },
  {
   "cell_type": "markdown",
   "metadata": {},
   "source": [
    "As the data requires exactly time to match, it is necessary to check how the time looks like in the file..\n",
    "\n",
    "Pick randomly several sequential integers as indeces...\n",
    "\n",
    "Generally we can find some rules of the time and be able to choose a proper time that suits our needs.\n",
    "\n",
    "It is also important to mention that dates are stored in integer format...Sometimes there is also the situation of the transformation between number and date\n",
    "\n",
    "For example, in the following examples:\n",
    "\n",
    "Index refers to 12:15\n",
    "Date refers to 1977-03-15\n",
    "Number refers to 64721(.0)"
   ]
  },
  {
   "cell_type": "code",
   "execution_count": 6,
   "metadata": {},
   "outputs": [
    {
     "data": {
      "text/plain": [
       "array([datetime.datetime(1881, 1, 15, 0, 0),\n",
       "       datetime.datetime(1881, 2, 15, 0, 0),\n",
       "       datetime.datetime(1881, 3, 15, 0, 0)], dtype=object)"
      ]
     },
     "execution_count": 6,
     "metadata": {},
     "output_type": "execute_result"
    }
   ],
   "source": [
    "netCDF4.num2date(data.variables['time'][12:15], units=data.variables['time'].units)"
   ]
  },
  {
   "cell_type": "code",
   "execution_count": 7,
   "metadata": {},
   "outputs": [],
   "source": [
    "#must specify the exact time point!!!\n",
    "idx = netCDF4.date2index(datetime(1977,3,15), data.variables['time'])\n",
    "num = netCDF4.date2num(datetime(1977,3,15), data.variables['time'].units)"
   ]
  },
  {
   "cell_type": "code",
   "execution_count": 8,
   "metadata": {},
   "outputs": [],
   "source": [
    "temp_Mar_1977 = data.variables['tempanomaly'][idx]"
   ]
  },
  {
   "cell_type": "code",
   "execution_count": 9,
   "metadata": {},
   "outputs": [
    {
     "data": {
      "text/plain": [
       "(datetime.datetime(1977, 3, 15, 0, 0), 64721.0)"
      ]
     },
     "execution_count": 9,
     "metadata": {},
     "output_type": "execute_result"
    }
   ],
   "source": [
    "netCDF4.num2date(num, units=data.variables['time'].units), num"
   ]
  },
  {
   "cell_type": "markdown",
   "metadata": {},
   "source": [
    "To be continued..."
   ]
  }
 ],
 "metadata": {
  "kernelspec": {
   "display_name": "Python 3",
   "language": "python",
   "name": "python3"
  },
  "language_info": {
   "codemirror_mode": {
    "name": "ipython",
    "version": 3
   },
   "file_extension": ".py",
   "mimetype": "text/x-python",
   "name": "python",
   "nbconvert_exporter": "python",
   "pygments_lexer": "ipython3",
   "version": "3.7.3"
  }
 },
 "nbformat": 4,
 "nbformat_minor": 2
}
