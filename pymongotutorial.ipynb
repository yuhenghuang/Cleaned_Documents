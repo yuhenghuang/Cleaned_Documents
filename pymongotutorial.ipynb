{
 "cells": [
  {
   "cell_type": "markdown",
   "metadata": {},
   "source": [
    "This file follows an online tutorial about mongoDB and is rewritten in python code...\n",
    "Deprecation warnings are fixed...\n",
    "Only for reference..."
   ]
  },
  {
   "cell_type": "code",
   "execution_count": 1,
   "metadata": {},
   "outputs": [],
   "source": [
    "import pymongo\n",
    "from datetime import datetime\n",
    "from pprint import pprint"
   ]
  },
  {
   "cell_type": "code",
   "execution_count": 2,
   "metadata": {},
   "outputs": [],
   "source": [
    "client = pymongo.MongoClient()"
   ]
  },
  {
   "cell_type": "code",
   "execution_count": 3,
   "metadata": {},
   "outputs": [],
   "source": [
    "#create or connect to 'mydb', and its collection 'movie'\n",
    "#the db is not yet created, waiting to be created\n",
    "\n",
    "db = client['mydb']\n",
    "col = db['movie']"
   ]
  },
  {
   "cell_type": "code",
   "execution_count": 4,
   "metadata": {},
   "outputs": [
    {
     "data": {
      "text/plain": [
       "<pymongo.results.InsertOneResult at 0x7fb350485f88>"
      ]
     },
     "execution_count": 4,
     "metadata": {},
     "output_type": "execute_result"
    }
   ],
   "source": [
    "#insert one document to activate the creation of db and collection\n",
    "\n",
    "col.insert_one({'name': 'tutorials point'})"
   ]
  },
  {
   "cell_type": "code",
   "execution_count": 5,
   "metadata": {},
   "outputs": [
    {
     "data": {
      "text/plain": [
       "['admin', 'config', 'local', 'mydb', 'test_database']"
      ]
     },
     "execution_count": 5,
     "metadata": {},
     "output_type": "execute_result"
    }
   ],
   "source": [
    "client.list_database_names()"
   ]
  },
  {
   "cell_type": "code",
   "execution_count": 6,
   "metadata": {},
   "outputs": [],
   "source": [
    "#drop db\n",
    "\n",
    "client.drop_database('mydb')"
   ]
  },
  {
   "cell_type": "code",
   "execution_count": 7,
   "metadata": {},
   "outputs": [
    {
     "data": {
      "text/plain": [
       "['admin', 'config', 'local', 'test_database']"
      ]
     },
     "execution_count": 7,
     "metadata": {},
     "output_type": "execute_result"
    }
   ],
   "source": [
    "client.list_database_names()"
   ]
  },
  {
   "cell_type": "code",
   "execution_count": 8,
   "metadata": {},
   "outputs": [],
   "source": [
    "#manually creating the collection activates the creation of new db 'test'\n",
    "\n",
    "db = client['test']\n",
    "col = db.create_collection('mycollection')"
   ]
  },
  {
   "cell_type": "code",
   "execution_count": 9,
   "metadata": {},
   "outputs": [
    {
     "data": {
      "text/plain": [
       "['mycollection']"
      ]
     },
     "execution_count": 9,
     "metadata": {},
     "output_type": "execute_result"
    }
   ],
   "source": [
    "db.list_collection_names()"
   ]
  },
  {
   "cell_type": "code",
   "execution_count": 10,
   "metadata": {},
   "outputs": [
    {
     "data": {
      "text/plain": [
       "Collection(Database(MongoClient(host=['localhost:27017'], document_class=dict, tz_aware=False, connect=True), 'test'), 'mycol')"
      ]
     },
     "execution_count": 10,
     "metadata": {},
     "output_type": "execute_result"
    }
   ],
   "source": [
    "#pass more parameters to create the collection\n",
    "\n",
    "db.create_collection(\"mycol\", **{ 'capped' : True, 'size' : 6142800, 'max' : 10000 })"
   ]
  },
  {
   "cell_type": "code",
   "execution_count": 11,
   "metadata": {},
   "outputs": [
    {
     "data": {
      "text/plain": [
       "['mycol', 'mycollection']"
      ]
     },
     "execution_count": 11,
     "metadata": {},
     "output_type": "execute_result"
    }
   ],
   "source": [
    "db.list_collection_names()"
   ]
  },
  {
   "cell_type": "code",
   "execution_count": 12,
   "metadata": {},
   "outputs": [],
   "source": [
    "#drop 'mycollection'\n",
    "\n",
    "col.drop()"
   ]
  },
  {
   "cell_type": "code",
   "execution_count": 13,
   "metadata": {},
   "outputs": [
    {
     "data": {
      "text/plain": [
       "['mycol']"
      ]
     },
     "execution_count": 13,
     "metadata": {},
     "output_type": "execute_result"
    }
   ],
   "source": [
    "db.list_collection_names()"
   ]
  },
  {
   "cell_type": "code",
   "execution_count": 14,
   "metadata": {},
   "outputs": [
    {
     "data": {
      "text/plain": [
       "<pymongo.results.InsertOneResult at 0x7fb350430208>"
      ]
     },
     "execution_count": 14,
     "metadata": {},
     "output_type": "execute_result"
    }
   ],
   "source": [
    "#insert one document\n",
    "\n",
    "from bson.objectid import ObjectId\n",
    "\n",
    "db.mycol.insert_one({\n",
    "'_id': ObjectId('5cc7ad386d67b818b15b3f49'),\n",
    "'title': 'MongoDB Overview',\n",
    "'description': 'MongoDB is no sql database',\n",
    "'by': 'tutorials point',\n",
    "'url': 'http://www.tutorialspoint.com',\n",
    "'tags': ['mongodb', 'database', 'NoSQL'],\n",
    "'likes': 100\n",
    "})"
   ]
  },
  {
   "cell_type": "code",
   "execution_count": 15,
   "metadata": {},
   "outputs": [
    {
     "data": {
      "text/plain": [
       "<pymongo.results.InsertManyResult at 0x7fb3501b0088>"
      ]
     },
     "execution_count": 15,
     "metadata": {},
     "output_type": "execute_result"
    }
   ],
   "source": [
    "#insert many complex documents at once\n",
    "#new collection 'post' is created\n",
    "\n",
    "db.post.insert_many([\n",
    "{\n",
    "'title': 'MongoDB Overview',\n",
    "'description': 'MongoDB is no sql database',\n",
    "'by': 'tutorials point',\n",
    "'url': 'http://www.tutorialspoint.com',\n",
    "'tags': ['mongodb', 'database', 'NoSQL'],\n",
    "'likes': 100\n",
    "},\n",
    "{\n",
    "'title': 'NoSQL Database',\n",
    "'description': \"NoSQL database doesn't have tables\",\n",
    "'by': 'tutorials point',\n",
    "'url': 'http://www.tutorialspoint.com',\n",
    "'tags': ['mongodb', 'database', 'NoSQL'],\n",
    "'likes': 20,\n",
    "'comments': [\n",
    "{\n",
    "'user':'user1',\n",
    "'message': 'My first comment',\n",
    "'dateCreated': datetime(2013,11,10,2,35),\n",
    "'like': 0\n",
    "}\n",
    "]\n",
    "}\n",
    "])"
   ]
  },
  {
   "cell_type": "code",
   "execution_count": 16,
   "metadata": {},
   "outputs": [
    {
     "name": "stdout",
     "output_type": "stream",
     "text": [
      "{'_id': ObjectId('5cd11d5b6d67b83e23e6362f'),\n",
      " 'by': 'tutorials point',\n",
      " 'description': 'MongoDB is no sql database',\n",
      " 'likes': 100,\n",
      " 'tags': ['mongodb', 'database', 'NoSQL'],\n",
      " 'title': 'MongoDB Overview',\n",
      " 'url': 'http://www.tutorialspoint.com'}\n",
      "{'_id': ObjectId('5cd11d5b6d67b83e23e63630'),\n",
      " 'by': 'tutorials point',\n",
      " 'comments': [{'dateCreated': datetime.datetime(2013, 11, 10, 2, 35),\n",
      "               'like': 0,\n",
      "               'message': 'My first comment',\n",
      "               'user': 'user1'}],\n",
      " 'description': \"NoSQL database doesn't have tables\",\n",
      " 'likes': 20,\n",
      " 'tags': ['mongodb', 'database', 'NoSQL'],\n",
      " 'title': 'NoSQL Database',\n",
      " 'url': 'http://www.tutorialspoint.com'}\n"
     ]
    }
   ],
   "source": [
    "#find() is a cursor, you have to do something to commit it\n",
    "#this pprint() might be identical to pretty() method in mongodb\n",
    "\n",
    "for post in db.post.find():\n",
    "    pprint(post)"
   ]
  },
  {
   "cell_type": "code",
   "execution_count": 17,
   "metadata": {},
   "outputs": [
    {
     "data": {
      "text/plain": [
       "{'_id': ObjectId('5cd11d5b6d67b83e23e6362f'),\n",
       " 'title': 'MongoDB Overview',\n",
       " 'description': 'MongoDB is no sql database',\n",
       " 'by': 'tutorials point',\n",
       " 'url': 'http://www.tutorialspoint.com',\n",
       " 'tags': ['mongodb', 'database', 'NoSQL'],\n",
       " 'likes': 100}"
      ]
     },
     "execution_count": 17,
     "metadata": {},
     "output_type": "execute_result"
    }
   ],
   "source": [
    "db.post.find_one()"
   ]
  },
  {
   "cell_type": "code",
   "execution_count": 18,
   "metadata": {},
   "outputs": [
    {
     "name": "stdout",
     "output_type": "stream",
     "text": [
      "{'_id': ObjectId('5cc7ad386d67b818b15b3f49'),\n",
      " 'by': 'tutorials point',\n",
      " 'description': 'MongoDB is no sql database',\n",
      " 'likes': 100,\n",
      " 'tags': ['mongodb', 'database', 'NoSQL'],\n",
      " 'title': 'MongoDB Overview',\n",
      " 'url': 'http://www.tutorialspoint.com'}\n"
     ]
    }
   ],
   "source": [
    "#the order of variable is sorted...this does not happen in mongodb\n",
    "\n",
    "for post in db.mycol.find({\"by\":\"tutorials point\",\"title\": \"MongoDB Overview\"}):\n",
    "    pprint(post)"
   ]
  },
  {
   "cell_type": "code",
   "execution_count": 19,
   "metadata": {},
   "outputs": [
    {
     "name": "stdout",
     "output_type": "stream",
     "text": [
      "{'_id': ObjectId('5cc7ad386d67b818b15b3f49'),\n",
      " 'by': 'tutorials point',\n",
      " 'description': 'MongoDB is no sql database',\n",
      " 'likes': 100,\n",
      " 'tags': ['mongodb', 'database', 'NoSQL'],\n",
      " 'title': 'MongoDB Overview',\n",
      " 'url': 'http://www.tutorialspoint.com'}\n"
     ]
    }
   ],
   "source": [
    "#find given conditions\n",
    "\n",
    "for post in db.mycol.find({\"likes\": {'$gt':10}, '$or': [{\"by\": \"tutorials point\"}, {\"title\": \"MongoDB Overview\"}]}):\n",
    "    pprint(post)"
   ]
  },
  {
   "cell_type": "code",
   "execution_count": 20,
   "metadata": {},
   "outputs": [
    {
     "data": {
      "text/plain": [
       "<pymongo.results.InsertManyResult at 0x7fb3504508c8>"
      ]
     },
     "execution_count": 20,
     "metadata": {},
     "output_type": "execute_result"
    }
   ],
   "source": [
    "#create new mycol and insert data for further test of UPDATE\n",
    "db.drop_collection('mycol')\n",
    "\n",
    "db.mycol.insert_many([\n",
    "{ \"_id\" : ObjectId('5cd0ee996d67b837a8504350'), \"title\":\"MongoDB Overview\"},\n",
    "{ \"_id\" : ObjectId('5cd0ee996d67b837a8504351'), \"title\":\"NoSQL Overview\"},\n",
    "{ \"_id\" : ObjectId('5cd0ee996d67b837a8504352'), \"title\":\"Tutorials Point Overview\"}\n",
    "])"
   ]
  },
  {
   "cell_type": "code",
   "execution_count": 21,
   "metadata": {},
   "outputs": [
    {
     "data": {
      "text/plain": [
       "<pymongo.results.UpdateResult at 0x7fb350626088>"
      ]
     },
     "execution_count": 21,
     "metadata": {},
     "output_type": "execute_result"
    }
   ],
   "source": [
    "#update_many() for multiple operations\n",
    "\n",
    "db.mycol.update_one({'title':'MongoDB Overview'},{'$set':{'title':'New MongoDB Tutorial'}})"
   ]
  },
  {
   "cell_type": "code",
   "execution_count": 22,
   "metadata": {},
   "outputs": [
    {
     "name": "stdout",
     "output_type": "stream",
     "text": [
      "{'_id': ObjectId('5cd0ee996d67b837a8504350'), 'title': 'New MongoDB Tutorial'}\n",
      "{'_id': ObjectId('5cd0ee996d67b837a8504351'), 'title': 'NoSQL Overview'}\n",
      "{'_id': ObjectId('5cd0ee996d67b837a8504352'),\n",
      " 'title': 'Tutorials Point Overview'}\n"
     ]
    }
   ],
   "source": [
    "for post in db.mycol.find():\n",
    "    pprint(post)"
   ]
  },
  {
   "cell_type": "code",
   "execution_count": 23,
   "metadata": {},
   "outputs": [
    {
     "data": {
      "text/plain": [
       "<pymongo.results.UpdateResult at 0x7fb350415548>"
      ]
     },
     "execution_count": 23,
     "metadata": {},
     "output_type": "execute_result"
    }
   ],
   "source": [
    "#save() is another method, integrating repalce() and insert()\n",
    "#it is deprecated!\n",
    "\n",
    "db.mycol.replace_one({\"_id\" : ObjectId('5cd0ee996d67b837a8504350')}, {\"title\":\"Tutorials Point New Topic\", \"by\":\"Tutorials Point\"})"
   ]
  },
  {
   "cell_type": "code",
   "execution_count": 24,
   "metadata": {},
   "outputs": [
    {
     "name": "stdout",
     "output_type": "stream",
     "text": [
      "{'_id': ObjectId('5cd0ee996d67b837a8504350'),\n",
      " 'by': 'Tutorials Point',\n",
      " 'title': 'Tutorials Point New Topic'}\n",
      "{'_id': ObjectId('5cd0ee996d67b837a8504351'), 'title': 'NoSQL Overview'}\n",
      "{'_id': ObjectId('5cd0ee996d67b837a8504352'),\n",
      " 'title': 'Tutorials Point Overview'}\n"
     ]
    }
   ],
   "source": [
    "for post in db.mycol.find():\n",
    "    pprint(post)"
   ]
  },
  {
   "cell_type": "code",
   "execution_count": 25,
   "metadata": {},
   "outputs": [
    {
     "name": "stdout",
     "output_type": "stream",
     "text": [
      "{'_id': ObjectId('5cd0ee996d67b837a8504351'), 'title': 'NoSQL Overview'}\n",
      "{'_id': ObjectId('5cd0ee996d67b837a8504352'),\n",
      " 'title': 'Tutorials Point Overview'}\n"
     ]
    }
   ],
   "source": [
    "#remove() method\n",
    "#deprecated, use delete_one() or delete_many()\n",
    "\n",
    "db.mycol.delete_one({'title': 'Tutorials Point New Topic'})\n",
    "\n",
    "for post in db.mycol.find():\n",
    "    pprint(post)"
   ]
  },
  {
   "cell_type": "code",
   "execution_count": 26,
   "metadata": {},
   "outputs": [],
   "source": [
    "#db.mycol.remove()\n",
    "#or\n",
    "db.mycol.delete_many({})\n",
    "#recommended\n",
    "\n",
    "#nothing is displayed\n",
    "for post in db.mycol.find():\n",
    "    pprint(post)"
   ]
  },
  {
   "cell_type": "code",
   "execution_count": 27,
   "metadata": {},
   "outputs": [
    {
     "data": {
      "text/plain": [
       "<pymongo.results.InsertManyResult at 0x7fb3501b6c48>"
      ]
     },
     "execution_count": 27,
     "metadata": {},
     "output_type": "execute_result"
    }
   ],
   "source": [
    "#insert the data to the empty collection\n",
    "\n",
    "db.mycol.insert_many([\n",
    "{ \"_id\" : ObjectId('5cd0ee996d67b837a8504350'), \"title\":\"MongoDB Overview\"},\n",
    "{ \"_id\" : ObjectId('5cd0ee996d67b837a8504351'), \"title\":\"NoSQL Overview\"},\n",
    "{ \"_id\" : ObjectId('5cd0ee996d67b837a8504352'), \"title\":\"Tutorials Point Overview\"}\n",
    "])"
   ]
  },
  {
   "cell_type": "code",
   "execution_count": 28,
   "metadata": {},
   "outputs": [
    {
     "name": "stdout",
     "output_type": "stream",
     "text": [
      "{'title': 'MongoDB Overview'}\n",
      "{'title': 'NoSQL Overview'}\n",
      "{'title': 'Tutorials Point Overview'}\n"
     ]
    }
   ],
   "source": [
    "#projection (select)\n",
    "#as '_id' is always displayed, we need to set it to 0 if we don't want to see it\n",
    "\n",
    "for post in db.mycol.find({}, {'title':1, '_id':0}):\n",
    "    pprint(post)"
   ]
  },
  {
   "cell_type": "code",
   "execution_count": 29,
   "metadata": {},
   "outputs": [
    {
     "name": "stdout",
     "output_type": "stream",
     "text": [
      "{'title': 'MongoDB Overview'}\n",
      "{'title': 'NoSQL Overview'}\n"
     ]
    }
   ],
   "source": [
    "#only show max 2 documents\n",
    "\n",
    "for post in db.mycol.find({}, {'title':1, '_id':0}).limit(2):\n",
    "    pprint(post)"
   ]
  },
  {
   "cell_type": "code",
   "execution_count": 30,
   "metadata": {},
   "outputs": [
    {
     "name": "stdout",
     "output_type": "stream",
     "text": [
      "{'title': 'NoSQL Overview'}\n"
     ]
    }
   ],
   "source": [
    "#skip 1 found document\n",
    "\n",
    "for post in db.mycol.find({}, {'title':1, '_id':0}).limit(1).skip(1):\n",
    "    pprint(post)"
   ]
  },
  {
   "cell_type": "code",
   "execution_count": 31,
   "metadata": {},
   "outputs": [
    {
     "name": "stdout",
     "output_type": "stream",
     "text": [
      "{'title': 'Tutorials Point Overview'}\n",
      "{'title': 'NoSQL Overview'}\n",
      "{'title': 'MongoDB Overview'}\n"
     ]
    }
   ],
   "source": [
    "#sort by 'title' in descending order\n",
    "\n",
    "for post in db.mycol.find({}, {'title':1, '_id':0}).sort('title', pymongo.DESCENDING):\n",
    "    pprint(post)"
   ]
  },
  {
   "cell_type": "code",
   "execution_count": 32,
   "metadata": {},
   "outputs": [
    {
     "data": {
      "text/plain": [
       "'title_1'"
      ]
     },
     "execution_count": 32,
     "metadata": {},
     "output_type": "execute_result"
    }
   ],
   "source": [
    "#create index\n",
    "\n",
    "db.mycol.create_index([('title', pymongo.ASCENDING)], unique=True)"
   ]
  },
  {
   "cell_type": "code",
   "execution_count": 33,
   "metadata": {},
   "outputs": [
    {
     "data": {
      "text/plain": [
       "'title_1_description_-1'"
      ]
     },
     "execution_count": 33,
     "metadata": {},
     "output_type": "execute_result"
    }
   ],
   "source": [
    "#two fields as index\n",
    "\n",
    "db.mycol.create_index([('title', 1), ('description', -1)])"
   ]
  },
  {
   "cell_type": "code",
   "execution_count": 34,
   "metadata": {},
   "outputs": [
    {
     "data": {
      "text/plain": [
       "<pymongo.results.InsertManyResult at 0x7fb3501c5948>"
      ]
     },
     "execution_count": 34,
     "metadata": {},
     "output_type": "execute_result"
    }
   ],
   "source": [
    "#prepare data\n",
    "\n",
    "db.drop_collection('mycol')\n",
    "\n",
    "db.mycol.insert_many([\n",
    "{\n",
    "'_id': ObjectId('5cd0ee996d67b837a8504350'),\n",
    "'title': 'MongoDB Overview',\n",
    "'description': 'MongoDB is no sql database',\n",
    "'by_user': 'tutorials point',\n",
    "'url': 'http://www.tutorialspoint.com',\n",
    "'tags': ['mongodb', 'database', 'NoSQL'],\n",
    "'likes': 100\n",
    "},\n",
    "{\n",
    "'_id': ObjectId('5cd0ee996d67b837a8504351'),\n",
    "'title': 'NoSQL Overview',\n",
    "'description': 'No sql database is very fast',\n",
    "'by_user': 'tutorials point',\n",
    "'url': 'http://www.tutorialspoint.com',\n",
    "'tags': ['mongodb', 'database', 'NoSQL'],\n",
    "'likes': 10\n",
    "},\n",
    "{\n",
    "'_id': ObjectId('5cd0ee996d67b837a8504352'),\n",
    "'title': 'Neo4j Overview',\n",
    "'description': 'Neo4j is no sql database',\n",
    "'by_user': 'Neo4j',\n",
    "'url': 'http://www.neo4j.com',\n",
    "'tags': ['neo4j', 'database', 'NoSQL'],\n",
    "'likes': 750}\n",
    "])"
   ]
  },
  {
   "cell_type": "code",
   "execution_count": 35,
   "metadata": {},
   "outputs": [
    {
     "name": "stdout",
     "output_type": "stream",
     "text": [
      "{'_id': 'Neo4j', 'num_tutorial': 1}\n",
      "{'_id': 'tutorials point', 'num_tutorial': 2}\n"
     ]
    }
   ],
   "source": [
    "aggr = db.mycol.aggregate([{'$group':{'_id':\"$by_user\", 'num_tutorial':{'$sum' : 1}}}])\n",
    "\n",
    "for post in aggr:\n",
    "    pprint(post)"
   ]
  },
  {
   "cell_type": "code",
   "execution_count": 36,
   "metadata": {},
   "outputs": [
    {
     "name": "stdout",
     "output_type": "stream",
     "text": [
      "{'_id': 'Neo4j', 'mean_likes': 750.0}\n",
      "{'_id': 'tutorials point', 'mean_likes': 55.0}\n"
     ]
    }
   ],
   "source": [
    "#pipeline example\n",
    "from bson.son import SON\n",
    "\n",
    "aggr2 = db.mycol.aggregate([{'$group':{'_id':'$by_user', 'mean_likes':{'$avg': '$likes'}}}, {'$sort':SON([('mean_likes', -1)])}])\n",
    "\n",
    "for post in aggr2:\n",
    "    pprint(post)"
   ]
  },
  {
   "cell_type": "code",
   "execution_count": 37,
   "metadata": {},
   "outputs": [],
   "source": [
    "#drop the 'test' db...\n",
    "\n",
    "client.drop_database('test')\n",
    "client.close()"
   ]
  },
  {
   "cell_type": "markdown",
   "metadata": {},
   "source": [
    "There are other operations at database level... beyond the scope of this file"
   ]
  }
 ],
 "metadata": {
  "kernelspec": {
   "display_name": "Python 3",
   "language": "python",
   "name": "python3"
  },
  "language_info": {
   "codemirror_mode": {
    "name": "ipython",
    "version": 3
   },
   "file_extension": ".py",
   "mimetype": "text/x-python",
   "name": "python",
   "nbconvert_exporter": "python",
   "pygments_lexer": "ipython3",
   "version": "3.7.3"
  }
 },
 "nbformat": 4,
 "nbformat_minor": 2
}
